{
 "cells": [
  {
   "cell_type": "markdown",
   "metadata": {},
   "source": [
    "<p style=\"text-align: center;font-size:20px;\"> <strong>Unit 1.2 WORLD IMPACT</strong></p>\n",
    "<p style=\"text-align: center;\">Alan Peraza, Yamili Monserrat Valbuena, Walter Vives</p>\n",
    "\n",
    "***\n",
    "#### Describe the growth of the digital economy\n",
    "#### Describe the ICT (Information and communication technologies) Indicators\n",
    "#### Identify and describe ICT-based business models\n",
    "#### Explain strategic data analysis\n",
    "#### Describe ICT patents\n",
    "#### Describe the impact in other areas: telecommunications, health, agriculture, science, energy.\n",
    "#### Identify the historical stages of the development of technology.\n",
    "#### Identify the relevant indicators of the digital economy.\n",
    "#### Identify the impact of ICTs in other areas.\n"
   ]
  },
  {
   "cell_type": "markdown",
   "metadata": {},
   "source": [
    "<p style=\"text-align: center;font-size:20px;\"> <strong>Questionnaire</strong></p>"
   ]
  }
 ],
 "metadata": {
  "kernelspec": {
   "display_name": "Python 3",
   "language": "python",
   "name": "python3"
  },
  "language_info": {
   "codemirror_mode": {
    "name": "ipython",
    "version": 3
   },
   "file_extension": ".py",
   "mimetype": "text/x-python",
   "name": "python",
   "nbconvert_exporter": "python",
   "pygments_lexer": "ipython3",
   "version": "3.7.1"
  }
 },
 "nbformat": 4,
 "nbformat_minor": 2
}
